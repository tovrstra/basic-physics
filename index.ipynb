{
 "cells": [
  {
   "cell_type": "markdown",
   "id": "26688659-acc3-495b-a01a-06eb7c950e49",
   "metadata": {},
   "source": [
    "# Basic Physics calculations in an IPython Jupyter Notebook"
   ]
  },
  {
   "cell_type": "markdown",
   "id": "a21f504e-1b04-46de-acb1-502db0673b7a",
   "metadata": {},
   "source": [
    "## Working with units"
   ]
  },
  {
   "cell_type": "markdown",
   "id": "312dda3d-279a-4385-afcb-e987828a62c8",
   "metadata": {},
   "source": [
    "The code below installs and imports the [Pint](https://pint.readthedocs.io/en/stable/) library, which facilitates calculations with units in Python.\n",
    "\n",
    "To execute a cell: click on it and press `Shift+Enter` on your keyboard.\n",
    "\n",
    "> On Google Colab, you will get a warning about the code not being developed by Google.\n",
    "> This is fine, just click `Run Anyway`.\n",
    "\n",
    "It may take a minute before pint is installed and imported.\n",
    "Subsequent code cells will run much faster."
   ]
  },
  {
   "cell_type": "code",
   "execution_count": null,
   "id": "8533bc67-6f93-4956-ba65-08054fe87a83",
   "metadata": {},
   "outputs": [],
   "source": [
    "!pip install -q pint"
   ]
  },
  {
   "cell_type": "markdown",
   "id": "a4dcbf66-4a06-4b48-8bf6-c19b89b44d45",
   "metadata": {},
   "source": [
    "Now that the installation has completed, you can press `Shift+Enter` again (and again) to execute the following cells of the notebook."
   ]
  },
  {
   "cell_type": "code",
   "execution_count": null,
   "id": "ba32a57d-0e5d-4c35-b989-49a4920c0a62",
   "metadata": {},
   "outputs": [],
   "source": [
    "import pint"
   ]
  },
  {
   "cell_type": "markdown",
   "id": "0adeb345-303f-4b9d-89e0-e80ef949c079",
   "metadata": {},
   "source": [
    "The next cell is a correct and working example, showing how Pint can be used to interpret a numerical value with a unit."
   ]
  },
  {
   "cell_type": "code",
   "execution_count": null,
   "id": "a64f9f96-74d4-4837-8847-e9e9418b1ff0",
   "metadata": {},
   "outputs": [],
   "source": [
    "print(pint.Quantity(\"9.81 m/s^2\"))"
   ]
  },
  {
   "cell_type": "markdown",
   "id": "1774c6ed-26bb-4235-82aa-5cf996cdb8e8",
   "metadata": {},
   "source": [
    "The mere fact that something meaningful is printed, means that the string with the quantity, including the unit, could be parsed correctly.\n",
    "\n",
    "The following cell shows an example of a meaningless quantity, and how pint will refuse to process it.\n",
    "You should see a long error message (called a stack trace). Look at the last line for the actual error message."
   ]
  },
  {
   "cell_type": "code",
   "execution_count": null,
   "id": "30c55145-1784-4398-b215-963d8a3cb8ba",
   "metadata": {},
   "outputs": [],
   "source": [
    "print(pint.Quantity(\"26 Km\"))"
   ]
  },
  {
   "cell_type": "markdown",
   "id": "80db0a54-d29a-436e-819a-c41892db2bdb",
   "metadata": {},
   "source": [
    "## The Scientific Python Stack: NumPy, SciPy and matplotlib"
   ]
  },
  {
   "cell_type": "markdown",
   "id": "ce807d4c-bba6-4fd1-98ed-100017ba014a",
   "metadata": {},
   "source": [
    "This section shows how to perform a few simple operations with NumPy arrays, SciPy functions and how to make an interactive figure with matplotlib.\n",
    "\n",
    "Before we start, we may have to install a few packages, depending on your software environment. The following cell will install missing packages if they are not present on your system"
   ]
  },
  {
   "cell_type": "code",
   "execution_count": null,
   "id": "0ffb2193-d313-4b1a-aef8-f78bb52f69eb",
   "metadata": {},
   "outputs": [],
   "source": [
    "!pip install -q numpy scipy matplotlib ipympl"
   ]
  },
  {
   "cell_type": "markdown",
   "id": "9678058f-cef3-4128-8745-a32e41a5a5c7",
   "metadata": {},
   "source": [
    "Once installed, the following three cells should work:"
   ]
  },
  {
   "cell_type": "code",
   "execution_count": null,
   "id": "ce972bf1-21b1-42c8-b93e-814ae90267a6",
   "metadata": {},
   "outputs": [],
   "source": [
    "try:\n",
    "    from google.colab import output\n",
    "\n",
    "    output.enable_custom_widget_manager()\n",
    "except ImportError:\n",
    "    pass"
   ]
  },
  {
   "cell_type": "code",
   "execution_count": null,
   "id": "fd8cc918-5f7a-4dfc-b7e2-56e12dccfb27",
   "metadata": {},
   "outputs": [],
   "source": [
    "%matplotlib widget"
   ]
  },
  {
   "cell_type": "code",
   "execution_count": null,
   "id": "a6df0ef6-cef3-47c0-873d-f55dc16be05e",
   "metadata": {},
   "outputs": [],
   "source": [
    "import numpy as np\n",
    "import scipy as sp\n",
    "import matplotlib.pyplot as plt"
   ]
  },
  {
   "cell_type": "markdown",
   "id": "eb9bfd91-b93b-4bb5-9753-a53f05e211bb",
   "metadata": {},
   "source": [
    "The following example shows how to make a graph of a function:\n",
    "\n",
    "- Data points are calculated with [NumPy](https://numpy.org/) arrays. See:\n",
    "    - https://numpy.org/doc/stable/reference/generated/numpy.linspace.html\n",
    "    - https://numpy.org/doc/stable/reference/generated/numpy.sin.html\n",
    "- The minimum is located with [SciPy](https://scipy.org/)'s scalar minimizer:\n",
    "    - https://docs.scipy.org/doc/scipy/reference/generated/scipy.optimize.minimize_scalar.html\n",
    "- The actual plotting is done with [matplotlib](https://matplotlib.org/).\n",
    "    - You can look at the [matplotlib example gallery](https://matplotlib.org/stable/gallery/index) for more inspiration.\n",
    "    - The figure is closed before creating it, to make sure you can rerun the cell (with changes) without too many problems.\n",
    "      This is a [known limitation of ipympl](https://github.com/matplotlib/ipympl/issues/4)."
   ]
  },
  {
   "cell_type": "code",
   "execution_count": null,
   "id": "fd23037c-94da-4d8d-81c1-f4a7459cfc22",
   "metadata": {},
   "outputs": [],
   "source": [
    "def func(x):\n",
    "    return np.sin(x) + 0.01 * x**2\n",
    "\n",
    "\n",
    "def demo_plot():\n",
    "    # Create data for the plot in NumPy arrays\n",
    "    x = np.linspace(-3 * np.pi, 3 * np.pi, 3001)\n",
    "    y = func(x)\n",
    "    print(\"x:\\n\", x)\n",
    "    print(\"\\nf(x):\\n\", y)\n",
    "\n",
    "    # Find the minimum of the function\n",
    "    opt = sp.optimize.minimize_scalar(func, (-4, 0))\n",
    "\n",
    "    # Make a plot with matplotlib.\n",
    "    plt.close(\"demo\")\n",
    "    fig, ax = plt.subplots(num=\"demo\")\n",
    "    ax.plot(x, y)\n",
    "    ax.plot([opt.x], [opt.fun], \"ro\")\n",
    "    ax.set_xlabel(\"$x$\")\n",
    "    ax.set_xlabel(\"$f(x)$\")\n",
    "\n",
    "\n",
    "demo_plot()"
   ]
  },
  {
   "cell_type": "markdown",
   "id": "86f11c72-4825-4b99-af94-1739f1c23dfc",
   "metadata": {},
   "source": [
    "When you move the mouse pointer over the plot, you should see some controls, which can be used to save the figure as a PNG file, to pan through the plot and to zoom in or out. (The home button brings you back to the original view.)"
   ]
  }
 ],
 "metadata": {
  "kernelspec": {
   "display_name": "Python 3 (ipykernel)",
   "language": "python",
   "name": "python3"
  },
  "language_info": {
   "codemirror_mode": {
    "name": "ipython",
    "version": 3
   },
   "file_extension": ".py",
   "mimetype": "text/x-python",
   "name": "python",
   "nbconvert_exporter": "python",
   "pygments_lexer": "ipython3"
  }
 },
 "nbformat": 4,
 "nbformat_minor": 5
}
