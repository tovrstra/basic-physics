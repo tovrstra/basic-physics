{
 "cells": [
  {
   "cell_type": "markdown",
   "id": "312dda3d-279a-4385-afcb-e987828a62c8",
   "metadata": {},
   "source": [
    "# Basic Physics calculations in an IPython Jupyter Notebook\n",
    "\n",
    "## Working with units\n",
    "\n",
    "The code below installs and imports the [Pint](https://pint.readthedocs.io/en/stable/) library, which facilitates calculations with units in Python.\n",
    "\n",
    "To execute a cell: click on it and press `Shift+Enter` on your keyboard."
   ]
  },
  {
   "cell_type": "code",
   "execution_count": null,
   "id": "8533bc67-6f93-4956-ba65-08054fe87a83",
   "metadata": {},
   "outputs": [],
   "source": [
    "!pip install -U pint\n",
    "import pint"
   ]
  },
  {
   "cell_type": "markdown",
   "id": "0adeb345-303f-4b9d-89e0-e80ef949c079",
   "metadata": {},
   "source": [
    "The next cell is a working example, showing how Pint can be used to interpret a numerical value with a unit."
   ]
  },
  {
   "cell_type": "code",
   "execution_count": null,
   "id": "a64f9f96-74d4-4837-8847-e9e9418b1ff0",
   "metadata": {},
   "outputs": [],
   "source": [
    "print(pint.Quantity(\"9.81 m/s^2\"))"
   ]
  },
  {
   "cell_type": "markdown",
   "id": "1774c6ed-26bb-4235-82aa-5cf996cdb8e8",
   "metadata": {},
   "source": [
    "The mere fact that something meaningful is printed, means that the string with the quantity, including the unit, could be parsed correctly.\n",
    "\n",
    "The following cell shows an example of a meaningless quantity, and how pint will refuse to process it.\n",
    "You should see a long error message (called a stack trace). Look at the last line for the actual error message."
   ]
  },
  {
   "cell_type": "code",
   "execution_count": null,
   "id": "30c55145-1784-4398-b215-963d8a3cb8ba",
   "metadata": {},
   "outputs": [],
   "source": [
    "print(pint.Quantity(\"26 Km\"))"
   ]
  },
  {
   "cell_type": "code",
   "execution_count": null,
   "id": "7364070a-6b81-49e6-b6ef-6732e2bf771c",
   "metadata": {},
   "outputs": [],
   "source": []
  }
 ],
 "metadata": {
  "kernelspec": {
   "display_name": "Python 3 (ipykernel)",
   "language": "python",
   "name": "python3"
  },
  "language_info": {
   "codemirror_mode": {
    "name": "ipython",
    "version": 3
   },
   "file_extension": ".py",
   "mimetype": "text/x-python",
   "name": "python",
   "nbconvert_exporter": "python",
   "pygments_lexer": "ipython3",
   "version": "3.11.5"
  }
 },
 "nbformat": 4,
 "nbformat_minor": 5
}
